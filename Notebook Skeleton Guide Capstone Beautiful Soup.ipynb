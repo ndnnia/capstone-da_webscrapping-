{
 "cells": [
  {
   "cell_type": "markdown",
   "metadata": {},
   "source": [
    "# Capstone Webscrapping using BeautifulSoup\n",
    "\n",
    "This notebook contains guidances & tasks on the data processing for the application\n",
    "\n",
    "## Background\n",
    "\n",
    "Pada project ini, akan dilakukan scrapping terhadap data exchange-rate yaitu data kurs US Dollar ke rupiah selama 6 bulan terakhir dari https://www.exchange-rates.org/history/IDR/USD/T. Data yang akan discrapp yaitu data tanggal dan nilai harga harian (harga 1 dolar dalam rupiah).\n",
    "\n",
    "Output dari project ini adalah berhasil melakukan web scrapping dan melakukan analisis terhadap data yang diperoleh.\n",
    "\n",
    "## Requesting the Data and Creating a BeautifulSoup\n",
    "\n",
    "Let's begin with requesting the web from the site with `get` method."
   ]
  },
  {
   "cell_type": "code",
   "execution_count": 1,
   "metadata": {
    "ExecuteTime": {
     "end_time": "2020-01-13T05:12:23.275508Z",
     "start_time": "2020-01-13T05:12:20.009898Z"
    }
   },
   "outputs": [],
   "source": [
    "import requests\n",
    "\n",
    "url_get = requests.get('https://www.exchange-rates.org/history/IDR/USD/T')"
   ]
  },
  {
   "cell_type": "markdown",
   "metadata": {},
   "source": [
    "To visualize what exactly you get from the `request.get`, we can use .content so ee what we exactly get, in here i slice it so it won't make our screen full of the html we get from the page. You can delete the slicing if you want to see what we fully get."
   ]
  },
  {
   "cell_type": "code",
   "execution_count": 2,
   "metadata": {
    "ExecuteTime": {
     "end_time": "2020-01-13T05:12:23.290648Z",
     "start_time": "2020-01-13T05:12:23.277650Z"
    }
   },
   "outputs": [
    {
     "data": {
      "text/plain": [
       "b'!DOCTYPE html>\\r\\n<!--[if lt IE 9]>\\r\\n<html class=\"no-js ie8 oldie\" lang=\"en\" xml:lang=\\'en\\'>\\r\\n<![endif]-->\\r\\n<!--[if gt IE 8]><!--><html class=\"no-js\" lang=\"en\" xml:lang=\\'en\\'><!--<![endif]-->\\r\\n<head>\\r\\n<title>USD to IDR exchange rate history</title>\\r\\n<meta http-equiv=\"X-UA-Compatible\" content=\"IE=edge\">\\r\\n<meta name=\"viewport\" content=\"width=device-width, initial-scale=1, maximum-scale=5\">\\r\\n<meta charset=\"utf-8\" /><meta http-equiv=\"Content-Type\" content=\"text/html; charset=utf-8\" />\\r\\n<base href=\"http'"
      ]
     },
     "execution_count": 2,
     "metadata": {},
     "output_type": "execute_result"
    }
   ],
   "source": [
    "url_get.content[1:500]"
   ]
  },
  {
   "cell_type": "markdown",
   "metadata": {},
   "source": [
    "As we can see we get a very unstructured and complex html, which actually contains the codes needed to show the webpages on your web browser. But we as human still confused what and where we can use that piece of code, so here where we use the beautifulsoup. Beautiful soup class will result a beautifulsoup object. Beautiful Soup transforms a complex HTML document into a complex tree of Python objects. \n",
    "\n",
    "Let's make Beautiful soup object and feel free to explore the object here."
   ]
  },
  {
   "cell_type": "code",
   "execution_count": 3,
   "metadata": {
    "ExecuteTime": {
     "end_time": "2020-01-13T05:12:23.808122Z",
     "start_time": "2020-01-13T05:12:23.292610Z"
    }
   },
   "outputs": [
    {
     "name": "stdout",
     "output_type": "stream",
     "text": [
      "<class 'bs4.BeautifulSoup'>\n"
     ]
    }
   ],
   "source": [
    "from bs4 import BeautifulSoup \n",
    "\n",
    "soup = BeautifulSoup(url_get.content,\"html.parser\")\n",
    "print(type(soup))"
   ]
  },
  {
   "cell_type": "code",
   "execution_count": 18,
   "metadata": {},
   "outputs": [
    {
     "name": "stdout",
     "output_type": "stream",
     "text": [
      "!DOCTYPE html>\n",
      "<!--[if lt IE 9]>\r\n",
      "<html class=\"no-js ie8 oldie\" lang=\"en\" xml:lang='en'>\r\n",
      "<![endif]-->\n",
      "<!--[if gt IE 8]><!-->\n",
      "<html class=\"no-js\" lang=\"en\" xml:lang=\"en\">\n",
      " <!--<![endif]-->\n",
      " <head>\n",
      "  <title>\n",
      "   USD to IDR exchange rate history\n",
      "  </title>\n",
      "  <meta content=\"IE=edge\" http-equiv=\"X-UA-Compatible\"/>\n",
      "  <meta content=\"width=device-width, initial-scale=1, maximum-scale=5\" name=\"viewport\"/>\n",
      "  <meta charset=\"utf-8\">\n",
      "   <meta content=\"text/html; charset=utf-8\" http-equiv=\"Content-Type\">\n",
      "   \n"
     ]
    }
   ],
   "source": [
    "print(soup.prettify()[1:500])"
   ]
  },
  {
   "cell_type": "markdown",
   "metadata": {},
   "source": [
    "## Finding the right key to scrap the data & Extracting the right information"
   ]
  },
  {
   "cell_type": "markdown",
   "metadata": {},
   "source": [
    "Mencari right key diawali dengan cara data yang akan diambil pada web di Inspect terlebih dahulu. Kemudian dicari right key yang menunjukkan datanya. \n",
    "\n",
    "Right Key untuk data ini : ('table', attrs={'class':'history-rates-data'})"
   ]
  },
  {
   "cell_type": "code",
   "execution_count": 4,
   "metadata": {
    "ExecuteTime": {
     "end_time": "2020-01-13T05:12:23.878904Z",
     "start_time": "2020-01-13T05:12:23.854974Z"
    }
   },
   "outputs": [
    {
     "name": "stdout",
     "output_type": "stream",
     "text": [
      "table border=\"0\" cellpadding=\"0\" cellspacing=\"0\" class=\"history-rates-data\">\n",
      " <thead>\n",
      "  <tr>\n",
      "   <th class=\"ltr-bidi-fix\">\n",
      "    Date\n",
      "   </th>\n",
      "   <th class=\"ltr-bidi-fix\">\n",
      "    US Dollar to Indonesian Rupiah\n",
      "   </th>\n",
      "  </tr>\n",
      " </thead>\n",
      " <tbody>\n",
      "  <tr>\n",
      "   <td>\n",
      "    <a class=\"w\" href=\"/exchange-rate-history/usd-idr-2023-05-12\">\n",
      "     May 12, 2023\n",
      "    </a>\n",
      "    <a class=\"n\" href=\"/exchange-rate-history/usd-idr-2023-05-12\">\n",
      "     2023-5-12\n",
      "    </a>\n",
      "   </td>\n",
      "   <td>\n",
      "    <span class=\"w\">\n",
      "     <span class=\"now\n"
     ]
    }
   ],
   "source": [
    "table = soup.find('table', attrs={'class':'history-rates-data'})\n",
    "print(table.prettify()[1:500])"
   ]
  },
  {
   "cell_type": "markdown",
   "metadata": {},
   "source": [
    "Finding row length."
   ]
  },
  {
   "cell_type": "code",
   "execution_count": 5,
   "metadata": {},
   "outputs": [
    {
     "data": {
      "text/plain": [
       "130"
      ]
     },
     "execution_count": 5,
     "metadata": {},
     "output_type": "execute_result"
    }
   ],
   "source": [
    "# cek row length dr date/harga\n",
    "table_all = table.find_all('span', attrs={'class':'w'})\n",
    "table_all\n",
    "row_length = len(table_all)\n",
    "row_length"
   ]
  },
  {
   "cell_type": "code",
   "execution_count": 6,
   "metadata": {},
   "outputs": [
    {
     "data": {
      "text/plain": [
       "'May 12, 2023'"
      ]
     },
     "execution_count": 6,
     "metadata": {},
     "output_type": "execute_result"
    }
   ],
   "source": [
    "#ekstrak satu nilai baris pd kolom tertentu\n",
    "#kalau mau ambil semua berarti pakai looping\n",
    "#begitu juga dg kolom lain\n",
    "#date\n",
    "table.find_all('a', attrs={'class':'w'})[0].text"
   ]
  },
  {
   "cell_type": "code",
   "execution_count": 7,
   "metadata": {},
   "outputs": [
    {
     "data": {
      "text/plain": [
       "'$1 = Rp14,844'"
      ]
     },
     "execution_count": 7,
     "metadata": {},
     "output_type": "execute_result"
    }
   ],
   "source": [
    "#harga harian\n",
    "table.find_all('span', attrs={'class':'w'})[0].text"
   ]
  },
  {
   "cell_type": "markdown",
   "metadata": {},
   "source": [
    "Proses Looping\n",
    "\n",
    "Pada cell sebelumnya telah diketahui bahwa jumlah data (row_length) yaitu 130 baris yang terdiri atas data tanggal dan data harga harian.\n",
    "\n",
    "Looping dilakukan untuk mengambil data tersebut dari baris 1 sampai baris 130.\n",
    "\n",
    "- Data Tanggal diambil menggunakan fungsi find_all --> table.find_all('a', attrs={'class':'w'})[0].text\n",
    "- Data Harga Harian menggunakan fungsi find_all --> table.find_all('span', attrs={'class':'w'})[0].text"
   ]
  },
  {
   "cell_type": "code",
   "execution_count": 9,
   "metadata": {
    "ExecuteTime": {
     "end_time": "2020-01-13T05:12:24.008256Z",
     "start_time": "2020-01-13T05:12:23.980358Z"
    }
   },
   "outputs": [
    {
     "data": {
      "text/plain": [
       "[('May 12, 2023', '$1 = Rp14,844'),\n",
       " ('May 11, 2023', '$1 = Rp14,776'),\n",
       " ('May 10, 2023', '$1 = Rp14,698'),\n",
       " ('May 9, 2023', '$1 = Rp14,776'),\n",
       " ('May 8, 2023', '$1 = Rp14,744'),\n",
       " ('May 5, 2023', '$1 = Rp14,675'),\n",
       " ('May 4, 2023', '$1 = Rp14,699'),\n",
       " ('May 3, 2023', '$1 = Rp14,680'),\n",
       " ('May 2, 2023', '$1 = Rp14,747'),\n",
       " ('May 1, 2023', '$1 = Rp14,677'),\n",
       " ('April 28, 2023', '$1 = Rp14,674'),\n",
       " ('April 27, 2023', '$1 = Rp14,691'),\n",
       " ('April 26, 2023', '$1 = Rp14,841'),\n",
       " ('April 25, 2023', '$1 = Rp14,940'),\n",
       " ('April 24, 2023', '$1 = Rp14,934'),\n",
       " ('April 21, 2023', '$1 = Rp14,936'),\n",
       " ('April 20, 2023', '$1 = Rp14,954'),\n",
       " ('April 19, 2023', '$1 = Rp14,995'),\n",
       " ('April 18, 2023', '$1 = Rp14,889'),\n",
       " ('April 17, 2023', '$1 = Rp14,850'),\n",
       " ('April 14, 2023', '$1 = Rp14,782'),\n",
       " ('April 13, 2023', '$1 = Rp14,722'),\n",
       " ('April 12, 2023', '$1 = Rp14,835'),\n",
       " ('April 11, 2023', '$1 = Rp14,915'),\n",
       " ('April 10, 2023', '$1 = Rp14,950'),\n",
       " ('April 7, 2023', '$1 = Rp14,941'),\n",
       " ('April 6, 2023', '$1 = Rp14,931'),\n",
       " ('April 5, 2023', '$1 = Rp14,960'),\n",
       " ('April 4, 2023', '$1 = Rp14,957'),\n",
       " ('April 3, 2023', '$1 = Rp14,922'),\n",
       " ('March 31, 2023', '$1 = Rp14,969'),\n",
       " ('March 30, 2023', '$1 = Rp15,024'),\n",
       " ('March 29, 2023', '$1 = Rp15,034'),\n",
       " ('March 28, 2023', '$1 = Rp15,060'),\n",
       " ('March 27, 2023', '$1 = Rp15,107'),\n",
       " ('March 24, 2023', '$1 = Rp15,165'),\n",
       " ('March 23, 2023', '$1 = Rp15,085'),\n",
       " ('March 22, 2023', '$1 = Rp15,253'),\n",
       " ('March 21, 2023', '$1 = Rp15,301'),\n",
       " ('March 20, 2023', '$1 = Rp15,343'),\n",
       " ('March 17, 2023', '$1 = Rp15,375'),\n",
       " ('March 16, 2023', '$1 = Rp15,429'),\n",
       " ('March 15, 2023', '$1 = Rp15,459'),\n",
       " ('March 14, 2023', '$1 = Rp15,380'),\n",
       " ('March 13, 2023', '$1 = Rp15,416'),\n",
       " ('March 10, 2023', '$1 = Rp15,503'),\n",
       " ('March 9, 2023', '$1 = Rp15,495'),\n",
       " ('March 8, 2023', '$1 = Rp15,449'),\n",
       " ('March 7, 2023', '$1 = Rp15,429'),\n",
       " ('March 6, 2023', '$1 = Rp15,354'),\n",
       " ('March 3, 2023', '$1 = Rp15,278'),\n",
       " ('March 2, 2023', '$1 = Rp15,322'),\n",
       " ('March 1, 2023', '$1 = Rp15,249'),\n",
       " ('February 28, 2023', '$1 = Rp15,241'),\n",
       " ('February 27, 2023', '$1 = Rp15,216'),\n",
       " ('February 24, 2023', '$1 = Rp15,265'),\n",
       " ('February 23, 2023', '$1 = Rp15,211'),\n",
       " ('February 22, 2023', '$1 = Rp15,197'),\n",
       " ('February 21, 2023', '$1 = Rp15,235'),\n",
       " ('February 20, 2023', '$1 = Rp15,168'),\n",
       " ('February 17, 2023', '$1 = Rp15,166'),\n",
       " ('February 16, 2023', '$1 = Rp15,144'),\n",
       " ('February 15, 2023', '$1 = Rp15,205'),\n",
       " ('February 14, 2023', '$1 = Rp15,186'),\n",
       " ('February 13, 2023', '$1 = Rp15,216'),\n",
       " ('February 10, 2023', '$1 = Rp15,188'),\n",
       " ('February 9, 2023', '$1 = Rp15,147'),\n",
       " ('February 8, 2023', '$1 = Rp15,133'),\n",
       " ('February 7, 2023', '$1 = Rp15,154'),\n",
       " ('February 6, 2023', '$1 = Rp15,198'),\n",
       " ('February 3, 2023', '$1 = Rp15,095'),\n",
       " ('February 2, 2023', '$1 = Rp14,907'),\n",
       " ('February 1, 2023', '$1 = Rp14,896'),\n",
       " ('January 31, 2023', '$1 = Rp15,002'),\n",
       " ('January 30, 2023', '$1 = Rp15,013'),\n",
       " ('January 27, 2023', '$1 = Rp14,973'),\n",
       " ('January 26, 2023', '$1 = Rp14,955'),\n",
       " ('January 25, 2023', '$1 = Rp14,940'),\n",
       " ('January 24, 2023', '$1 = Rp14,956'),\n",
       " ('January 23, 2023', '$1 = Rp15,026'),\n",
       " ('January 20, 2023', '$1 = Rp15,063'),\n",
       " ('January 19, 2023', '$1 = Rp15,154'),\n",
       " ('January 18, 2023', '$1 = Rp15,138'),\n",
       " ('January 17, 2023', '$1 = Rp15,180'),\n",
       " ('January 16, 2023', '$1 = Rp15,126'),\n",
       " ('January 13, 2023', '$1 = Rp15,115'),\n",
       " ('January 12, 2023', '$1 = Rp15,206'),\n",
       " ('January 11, 2023', '$1 = Rp15,432'),\n",
       " ('January 10, 2023', '$1 = Rp15,536'),\n",
       " ('January 9, 2023', '$1 = Rp15,596'),\n",
       " ('January 6, 2023', '$1 = Rp15,607'),\n",
       " ('January 5, 2023', '$1 = Rp15,635'),\n",
       " ('January 4, 2023', '$1 = Rp15,582'),\n",
       " ('January 3, 2023', '$1 = Rp15,594'),\n",
       " ('January 2, 2023', '$1 = Rp15,554'),\n",
       " ('December 30, 2022', '$1 = Rp15,534'),\n",
       " ('December 29, 2022', '$1 = Rp15,627'),\n",
       " ('December 28, 2022', '$1 = Rp15,789'),\n",
       " ('December 27, 2022', '$1 = Rp15,620'),\n",
       " ('December 26, 2022', '$1 = Rp15,621'),\n",
       " ('December 23, 2022', '$1 = Rp15,582'),\n",
       " ('December 22, 2022', '$1 = Rp15,574'),\n",
       " ('December 21, 2022', '$1 = Rp15,540'),\n",
       " ('December 20, 2022', '$1 = Rp15,564'),\n",
       " ('December 19, 2022', '$1 = Rp15,568'),\n",
       " ('December 16, 2022', '$1 = Rp15,616'),\n",
       " ('December 15, 2022', '$1 = Rp15,629'),\n",
       " ('December 14, 2022', '$1 = Rp15,543'),\n",
       " ('December 13, 2022', '$1 = Rp15,560'),\n",
       " ('December 12, 2022', '$1 = Rp15,676'),\n",
       " ('December 9, 2022', '$1 = Rp15,604'),\n",
       " ('December 8, 2022', '$1 = Rp15,594'),\n",
       " ('December 7, 2022', '$1 = Rp15,612'),\n",
       " ('December 6, 2022', '$1 = Rp15,625'),\n",
       " ('December 5, 2022', '$1 = Rp15,520'),\n",
       " ('December 2, 2022', '$1 = Rp15,376'),\n",
       " ('December 1, 2022', '$1 = Rp15,389'),\n",
       " ('November 30, 2022', '$1 = Rp15,633'),\n",
       " ('November 29, 2022', '$1 = Rp15,734'),\n",
       " ('November 28, 2022', '$1 = Rp15,743'),\n",
       " ('November 25, 2022', '$1 = Rp15,693'),\n",
       " ('November 24, 2022', '$1 = Rp15,647'),\n",
       " ('November 23, 2022', '$1 = Rp15,626'),\n",
       " ('November 22, 2022', '$1 = Rp15,664'),\n",
       " ('November 21, 2022', '$1 = Rp15,741'),\n",
       " ('November 18, 2022', '$1 = Rp15,641'),\n",
       " ('November 17, 2022', '$1 = Rp15,714'),\n",
       " ('November 16, 2022', '$1 = Rp15,639'),\n",
       " ('November 15, 2022', '$1 = Rp15,557'),\n",
       " ('November 14, 2022', '$1 = Rp15,554')]"
      ]
     },
     "execution_count": 9,
     "metadata": {},
     "output_type": "execute_result"
    }
   ],
   "source": [
    "temp = [] #initiating a tuple\n",
    "\n",
    "for i in range(0, row_length):\n",
    "\n",
    "    #get date\n",
    "    date=table.find_all('a', attrs={'class':'w'})[i].text\n",
    "    \n",
    "    #get harga harian\n",
    "    harga=table.find_all('span', attrs={'class':'w'})[i].text\n",
    "    \n",
    "    temp.append((date,harga))\n",
    "    \n",
    "temp #temp yaitu list yang terdiri atas Data Tanggal dan Data Harga Harian"
   ]
  },
  {
   "cell_type": "markdown",
   "metadata": {},
   "source": [
    "## Creating data frame & Data wrangling"
   ]
  },
  {
   "cell_type": "markdown",
   "metadata": {},
   "source": [
    "Simpan data ke dalam dataframe df"
   ]
  },
  {
   "cell_type": "code",
   "execution_count": 11,
   "metadata": {},
   "outputs": [],
   "source": [
    "import pandas as pd"
   ]
  },
  {
   "cell_type": "code",
   "execution_count": 45,
   "metadata": {
    "ExecuteTime": {
     "end_time": "2020-01-13T05:12:41.517372Z",
     "start_time": "2020-01-13T05:12:29.130015Z"
    }
   },
   "outputs": [
    {
     "data": {
      "text/html": [
       "<div>\n",
       "<style scoped>\n",
       "    .dataframe tbody tr th:only-of-type {\n",
       "        vertical-align: middle;\n",
       "    }\n",
       "\n",
       "    .dataframe tbody tr th {\n",
       "        vertical-align: top;\n",
       "    }\n",
       "\n",
       "    .dataframe thead th {\n",
       "        text-align: right;\n",
       "    }\n",
       "</style>\n",
       "<table border=\"1\" class=\"dataframe\">\n",
       "  <thead>\n",
       "    <tr style=\"text-align: right;\">\n",
       "      <th></th>\n",
       "      <th>Date</th>\n",
       "      <th>Price</th>\n",
       "    </tr>\n",
       "  </thead>\n",
       "  <tbody>\n",
       "    <tr>\n",
       "      <th>0</th>\n",
       "      <td>May 12, 2023</td>\n",
       "      <td>$1 = Rp14,844</td>\n",
       "    </tr>\n",
       "    <tr>\n",
       "      <th>1</th>\n",
       "      <td>May 11, 2023</td>\n",
       "      <td>$1 = Rp14,776</td>\n",
       "    </tr>\n",
       "    <tr>\n",
       "      <th>2</th>\n",
       "      <td>May 10, 2023</td>\n",
       "      <td>$1 = Rp14,698</td>\n",
       "    </tr>\n",
       "    <tr>\n",
       "      <th>3</th>\n",
       "      <td>May 9, 2023</td>\n",
       "      <td>$1 = Rp14,776</td>\n",
       "    </tr>\n",
       "    <tr>\n",
       "      <th>4</th>\n",
       "      <td>May 8, 2023</td>\n",
       "      <td>$1 = Rp14,744</td>\n",
       "    </tr>\n",
       "    <tr>\n",
       "      <th>...</th>\n",
       "      <td>...</td>\n",
       "      <td>...</td>\n",
       "    </tr>\n",
       "    <tr>\n",
       "      <th>125</th>\n",
       "      <td>November 18, 2022</td>\n",
       "      <td>$1 = Rp15,641</td>\n",
       "    </tr>\n",
       "    <tr>\n",
       "      <th>126</th>\n",
       "      <td>November 17, 2022</td>\n",
       "      <td>$1 = Rp15,714</td>\n",
       "    </tr>\n",
       "    <tr>\n",
       "      <th>127</th>\n",
       "      <td>November 16, 2022</td>\n",
       "      <td>$1 = Rp15,639</td>\n",
       "    </tr>\n",
       "    <tr>\n",
       "      <th>128</th>\n",
       "      <td>November 15, 2022</td>\n",
       "      <td>$1 = Rp15,557</td>\n",
       "    </tr>\n",
       "    <tr>\n",
       "      <th>129</th>\n",
       "      <td>November 14, 2022</td>\n",
       "      <td>$1 = Rp15,554</td>\n",
       "    </tr>\n",
       "  </tbody>\n",
       "</table>\n",
       "<p>130 rows × 2 columns</p>\n",
       "</div>"
      ],
      "text/plain": [
       "                  Date          Price\n",
       "0         May 12, 2023  $1 = Rp14,844\n",
       "1         May 11, 2023  $1 = Rp14,776\n",
       "2         May 10, 2023  $1 = Rp14,698\n",
       "3          May 9, 2023  $1 = Rp14,776\n",
       "4          May 8, 2023  $1 = Rp14,744\n",
       "..                 ...            ...\n",
       "125  November 18, 2022  $1 = Rp15,641\n",
       "126  November 17, 2022  $1 = Rp15,714\n",
       "127  November 16, 2022  $1 = Rp15,639\n",
       "128  November 15, 2022  $1 = Rp15,557\n",
       "129  November 14, 2022  $1 = Rp15,554\n",
       "\n",
       "[130 rows x 2 columns]"
      ]
     },
     "execution_count": 45,
     "metadata": {},
     "output_type": "execute_result"
    }
   ],
   "source": [
    "df = pd.DataFrame(temp,columns=('Date','Price'))\n",
    "df"
   ]
  },
  {
   "cell_type": "code",
   "execution_count": 46,
   "metadata": {},
   "outputs": [
    {
     "data": {
      "text/plain": [
       "Date     object\n",
       "Price    object\n",
       "dtype: object"
      ]
     },
     "execution_count": 46,
     "metadata": {},
     "output_type": "execute_result"
    }
   ],
   "source": [
    "df.dtypes"
   ]
  },
  {
   "cell_type": "markdown",
   "metadata": {},
   "source": [
    "### Data Wrangling\n",
    "\n",
    "Perhatikan bahwa, tipe data Date dan Price masih dalam bentuk object sehingga kita harus melakukan pengubahan tipe data yang sesuai.\n",
    "Selain itu, Data Harga juga harus dihapus terlebih dahulu '$1 = Rp' agar data hanya berisi angka saja dan bisa diubah ke tipe float."
   ]
  },
  {
   "cell_type": "code",
   "execution_count": 47,
   "metadata": {},
   "outputs": [
    {
     "data": {
      "text/html": [
       "<div>\n",
       "<style scoped>\n",
       "    .dataframe tbody tr th:only-of-type {\n",
       "        vertical-align: middle;\n",
       "    }\n",
       "\n",
       "    .dataframe tbody tr th {\n",
       "        vertical-align: top;\n",
       "    }\n",
       "\n",
       "    .dataframe thead th {\n",
       "        text-align: right;\n",
       "    }\n",
       "</style>\n",
       "<table border=\"1\" class=\"dataframe\">\n",
       "  <thead>\n",
       "    <tr style=\"text-align: right;\">\n",
       "      <th></th>\n",
       "      <th>Date</th>\n",
       "      <th>Price</th>\n",
       "    </tr>\n",
       "  </thead>\n",
       "  <tbody>\n",
       "    <tr>\n",
       "      <th>0</th>\n",
       "      <td>May 12, 2023</td>\n",
       "      <td>14844</td>\n",
       "    </tr>\n",
       "    <tr>\n",
       "      <th>1</th>\n",
       "      <td>May 11, 2023</td>\n",
       "      <td>14776</td>\n",
       "    </tr>\n",
       "    <tr>\n",
       "      <th>2</th>\n",
       "      <td>May 10, 2023</td>\n",
       "      <td>14698</td>\n",
       "    </tr>\n",
       "    <tr>\n",
       "      <th>3</th>\n",
       "      <td>May 9, 2023</td>\n",
       "      <td>14776</td>\n",
       "    </tr>\n",
       "    <tr>\n",
       "      <th>4</th>\n",
       "      <td>May 8, 2023</td>\n",
       "      <td>14744</td>\n",
       "    </tr>\n",
       "    <tr>\n",
       "      <th>...</th>\n",
       "      <td>...</td>\n",
       "      <td>...</td>\n",
       "    </tr>\n",
       "    <tr>\n",
       "      <th>125</th>\n",
       "      <td>November 18, 2022</td>\n",
       "      <td>15641</td>\n",
       "    </tr>\n",
       "    <tr>\n",
       "      <th>126</th>\n",
       "      <td>November 17, 2022</td>\n",
       "      <td>15714</td>\n",
       "    </tr>\n",
       "    <tr>\n",
       "      <th>127</th>\n",
       "      <td>November 16, 2022</td>\n",
       "      <td>15639</td>\n",
       "    </tr>\n",
       "    <tr>\n",
       "      <th>128</th>\n",
       "      <td>November 15, 2022</td>\n",
       "      <td>15557</td>\n",
       "    </tr>\n",
       "    <tr>\n",
       "      <th>129</th>\n",
       "      <td>November 14, 2022</td>\n",
       "      <td>15554</td>\n",
       "    </tr>\n",
       "  </tbody>\n",
       "</table>\n",
       "<p>130 rows × 2 columns</p>\n",
       "</div>"
      ],
      "text/plain": [
       "                  Date  Price\n",
       "0         May 12, 2023  14844\n",
       "1         May 11, 2023  14776\n",
       "2         May 10, 2023  14698\n",
       "3          May 9, 2023  14776\n",
       "4          May 8, 2023  14744\n",
       "..                 ...    ...\n",
       "125  November 18, 2022  15641\n",
       "126  November 17, 2022  15714\n",
       "127  November 16, 2022  15639\n",
       "128  November 15, 2022  15557\n",
       "129  November 14, 2022  15554\n",
       "\n",
       "[130 rows x 2 columns]"
      ]
     },
     "execution_count": 47,
     "metadata": {},
     "output_type": "execute_result"
    }
   ],
   "source": [
    "#mengganti $1 = Rp menjadi blank dan koma (,) menjadi blank\n",
    "df['Price']=df['Price'].str.replace('$1 = Rp','').str.replace(',','')\n",
    "df"
   ]
  },
  {
   "cell_type": "markdown",
   "metadata": {},
   "source": [
    "Selanjutnya, kita ubah tipe data Tanggal menjadi datetime64[ns] dan data Harga menjadi float64 menggunakan fungsi astype."
   ]
  },
  {
   "cell_type": "code",
   "execution_count": 48,
   "metadata": {},
   "outputs": [],
   "source": [
    "df['Date']=df['Date'].astype('datetime64[ns]')\n",
    "df['Price']=df['Price'].astype('float64')"
   ]
  },
  {
   "cell_type": "code",
   "execution_count": 49,
   "metadata": {},
   "outputs": [
    {
     "data": {
      "text/plain": [
       "Date     datetime64[ns]\n",
       "Price           float64\n",
       "dtype: object"
      ]
     },
     "execution_count": 49,
     "metadata": {},
     "output_type": "execute_result"
    }
   ],
   "source": [
    "df.dtypes"
   ]
  },
  {
   "cell_type": "markdown",
   "metadata": {},
   "source": [
    "### Implementing your webscrapping to the flask dashboard\n",
    "\n",
    "- Copy paste all of your web scrapping process to the desired position on the `app.py`\n",
    "- Changing the title of the dasboard at `index.html`"
   ]
  },
  {
   "cell_type": "markdown",
   "metadata": {},
   "source": [
    "## Finishing This Notebook with Your Analysis and Conclusion\n",
    "\n"
   ]
  },
  {
   "cell_type": "markdown",
   "metadata": {},
   "source": [
    "### Data Visualization\n",
    "\n",
    "Data Exhange-Rate merupakan data time series atau data pergerakan terhadap waktu sehingga kita akan melakukan visualisasi menggunakan line plot.\n",
    "Sebelum itu, jadikan kolom Date sebagai index terlebih dahulu."
   ]
  },
  {
   "cell_type": "code",
   "execution_count": 50,
   "metadata": {
    "ExecuteTime": {
     "end_time": "2020-01-13T05:20:56.208237Z",
     "start_time": "2020-01-13T05:20:56.076043Z"
    }
   },
   "outputs": [],
   "source": [
    "df1=df.set_index('Date')"
   ]
  },
  {
   "cell_type": "code",
   "execution_count": 51,
   "metadata": {},
   "outputs": [
    {
     "data": {
      "text/html": [
       "<div>\n",
       "<style scoped>\n",
       "    .dataframe tbody tr th:only-of-type {\n",
       "        vertical-align: middle;\n",
       "    }\n",
       "\n",
       "    .dataframe tbody tr th {\n",
       "        vertical-align: top;\n",
       "    }\n",
       "\n",
       "    .dataframe thead th {\n",
       "        text-align: right;\n",
       "    }\n",
       "</style>\n",
       "<table border=\"1\" class=\"dataframe\">\n",
       "  <thead>\n",
       "    <tr style=\"text-align: right;\">\n",
       "      <th></th>\n",
       "      <th>Price</th>\n",
       "    </tr>\n",
       "    <tr>\n",
       "      <th>Date</th>\n",
       "      <th></th>\n",
       "    </tr>\n",
       "  </thead>\n",
       "  <tbody>\n",
       "    <tr>\n",
       "      <th>2023-05-12</th>\n",
       "      <td>14844.0</td>\n",
       "    </tr>\n",
       "    <tr>\n",
       "      <th>2023-05-11</th>\n",
       "      <td>14776.0</td>\n",
       "    </tr>\n",
       "    <tr>\n",
       "      <th>2023-05-10</th>\n",
       "      <td>14698.0</td>\n",
       "    </tr>\n",
       "    <tr>\n",
       "      <th>2023-05-09</th>\n",
       "      <td>14776.0</td>\n",
       "    </tr>\n",
       "    <tr>\n",
       "      <th>2023-05-08</th>\n",
       "      <td>14744.0</td>\n",
       "    </tr>\n",
       "    <tr>\n",
       "      <th>...</th>\n",
       "      <td>...</td>\n",
       "    </tr>\n",
       "    <tr>\n",
       "      <th>2022-11-18</th>\n",
       "      <td>15641.0</td>\n",
       "    </tr>\n",
       "    <tr>\n",
       "      <th>2022-11-17</th>\n",
       "      <td>15714.0</td>\n",
       "    </tr>\n",
       "    <tr>\n",
       "      <th>2022-11-16</th>\n",
       "      <td>15639.0</td>\n",
       "    </tr>\n",
       "    <tr>\n",
       "      <th>2022-11-15</th>\n",
       "      <td>15557.0</td>\n",
       "    </tr>\n",
       "    <tr>\n",
       "      <th>2022-11-14</th>\n",
       "      <td>15554.0</td>\n",
       "    </tr>\n",
       "  </tbody>\n",
       "</table>\n",
       "<p>130 rows × 1 columns</p>\n",
       "</div>"
      ],
      "text/plain": [
       "              Price\n",
       "Date               \n",
       "2023-05-12  14844.0\n",
       "2023-05-11  14776.0\n",
       "2023-05-10  14698.0\n",
       "2023-05-09  14776.0\n",
       "2023-05-08  14744.0\n",
       "...             ...\n",
       "2022-11-18  15641.0\n",
       "2022-11-17  15714.0\n",
       "2022-11-16  15639.0\n",
       "2022-11-15  15557.0\n",
       "2022-11-14  15554.0\n",
       "\n",
       "[130 rows x 1 columns]"
      ]
     },
     "execution_count": 51,
     "metadata": {},
     "output_type": "execute_result"
    }
   ],
   "source": [
    "df1"
   ]
  },
  {
   "cell_type": "code",
   "execution_count": 52,
   "metadata": {},
   "outputs": [
    {
     "data": {
      "text/plain": [
       "<Axes: xlabel='Date'>"
      ]
     },
     "execution_count": 52,
     "metadata": {},
     "output_type": "execute_result"
    },
    {
     "data": {
      "image/png": "[encoded data removed]",
      "text/plain": [
       "<Figure size 640x480 with 1 Axes>"
      ]
     },
     "metadata": {},
     "output_type": "display_data"
    }
   ],
   "source": [
    "#line plot\n",
    "df1.plot()"
   ]
  },
  {
   "cell_type": "code",
   "execution_count": 96,
   "metadata": {},
   "outputs": [
    {
     "data": {
      "text/plain": [
       "15789.0"
      ]
     },
     "execution_count": 96,
     "metadata": {},
     "output_type": "execute_result"
    }
   ],
   "source": [
    "#nilai maksimum rupiah terhadap dollar\n",
    "maks= df['Price'].max()\n",
    "maks"
   ]
  },
  {
   "cell_type": "code",
   "execution_count": 97,
   "metadata": {},
   "outputs": [
    {
     "data": {
      "text/html": [
       "<div>\n",
       "<style scoped>\n",
       "    .dataframe tbody tr th:only-of-type {\n",
       "        vertical-align: middle;\n",
       "    }\n",
       "\n",
       "    .dataframe tbody tr th {\n",
       "        vertical-align: top;\n",
       "    }\n",
       "\n",
       "    .dataframe thead th {\n",
       "        text-align: right;\n",
       "    }\n",
       "</style>\n",
       "<table border=\"1\" class=\"dataframe\">\n",
       "  <thead>\n",
       "    <tr style=\"text-align: right;\">\n",
       "      <th></th>\n",
       "      <th>Date</th>\n",
       "      <th>Price</th>\n",
       "    </tr>\n",
       "  </thead>\n",
       "  <tbody>\n",
       "    <tr>\n",
       "      <th>97</th>\n",
       "      <td>2022-12-28</td>\n",
       "      <td>15789.0</td>\n",
       "    </tr>\n",
       "  </tbody>\n",
       "</table>\n",
       "</div>"
      ],
      "text/plain": [
       "         Date    Price\n",
       "97 2022-12-28  15789.0"
      ]
     },
     "execution_count": 97,
     "metadata": {},
     "output_type": "execute_result"
    }
   ],
   "source": [
    "df[df['Price']== maks]"
   ]
  },
  {
   "cell_type": "code",
   "execution_count": 82,
   "metadata": {},
   "outputs": [
    {
     "data": {
      "text/plain": [
       "14674.0"
      ]
     },
     "execution_count": 82,
     "metadata": {},
     "output_type": "execute_result"
    }
   ],
   "source": [
    "#nilai minimum rupiah terhadap dollar\n",
    "minim= df['Price'].min()\n",
    "minim"
   ]
  },
  {
   "cell_type": "code",
   "execution_count": 98,
   "metadata": {},
   "outputs": [
    {
     "data": {
      "text/html": [
       "<div>\n",
       "<style scoped>\n",
       "    .dataframe tbody tr th:only-of-type {\n",
       "        vertical-align: middle;\n",
       "    }\n",
       "\n",
       "    .dataframe tbody tr th {\n",
       "        vertical-align: top;\n",
       "    }\n",
       "\n",
       "    .dataframe thead th {\n",
       "        text-align: right;\n",
       "    }\n",
       "</style>\n",
       "<table border=\"1\" class=\"dataframe\">\n",
       "  <thead>\n",
       "    <tr style=\"text-align: right;\">\n",
       "      <th></th>\n",
       "      <th>Date</th>\n",
       "      <th>Price</th>\n",
       "    </tr>\n",
       "  </thead>\n",
       "  <tbody>\n",
       "    <tr>\n",
       "      <th>10</th>\n",
       "      <td>2023-04-28</td>\n",
       "      <td>14674.0</td>\n",
       "    </tr>\n",
       "  </tbody>\n",
       "</table>\n",
       "</div>"
      ],
      "text/plain": [
       "         Date    Price\n",
       "10 2023-04-28  14674.0"
      ]
     },
     "execution_count": 98,
     "metadata": {},
     "output_type": "execute_result"
    }
   ],
   "source": [
    "df[df['Price']== minim]"
   ]
  },
  {
   "cell_type": "code",
   "execution_count": 99,
   "metadata": {},
   "outputs": [
    {
     "data": {
      "text/plain": [
       "15240.876923076923"
      ]
     },
     "execution_count": 99,
     "metadata": {},
     "output_type": "execute_result"
    }
   ],
   "source": [
    "#rata-rata harga rupiah terhadap dollar\n",
    "df['Price'].mean()"
   ]
  },
  {
   "cell_type": "markdown",
   "metadata": {},
   "source": [
    "### Analisa"
   ]
  },
  {
   "cell_type": "markdown",
   "metadata": {},
   "source": [
    "- Nilai Tukar Dollar terhadap Rupiah cenderung memiliki tren menurun selama 6 bulan terakhir. Pada bulan Januari ke Februari mengalami penurunan sedangkan bulan Februari ke Maret naik lagi lalu turun lagi sampai Mei.\n",
    "- Nilai Tukar Dollar terhadap Rupiah tertinggi yaitu terjadi pada 28 Desember 2022 sebesar Rp15.789\n",
    "- Nilai Tukar Dollar terhadap Rupiah terendah yaitu terjadi pada 28 April 2023 sebesar Rp14.674\n",
    "- Rata-rata Nilai Tukar Dollar terhadap Rupiah yaitu Rp15.240,87"
   ]
  },
  {
   "cell_type": "markdown",
   "metadata": {},
   "source": [
    "### Implement it at the webapps\n",
    "\n",
    "- You can create additional analysis from the data.\n",
    "- Implement it to the dashboard with at `app.py` dan `index.html`."
   ]
  }
 ],
 "metadata": {
  "kernelspec": {
   "display_name": "capstone",
   "language": "python",
   "name": "capstone"
  },
  "language_info": {
   "codemirror_mode": {
    "name": "ipython",
    "version": 3
   },
   "file_extension": ".py",
   "mimetype": "text/x-python",
   "name": "python",
   "nbconvert_exporter": "python",
   "pygments_lexer": "ipython3",
   "version": "3.10.11"
  }
 },
 "nbformat": 4,
 "nbformat_minor": 2
}
